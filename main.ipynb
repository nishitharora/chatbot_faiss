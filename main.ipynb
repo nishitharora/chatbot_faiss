{
 "cells": [
  {
   "cell_type": "code",
   "execution_count": 1,
   "id": "d087eb75-c7cd-446c-ba8e-61771f5a5f02",
   "metadata": {},
   "outputs": [
    {
     "name": "stdout",
     "output_type": "stream",
     "text": [
      "Requirement already satisfied: farm-haystack in /opt/anaconda3/lib/python3.12/site-packages (1.26.4.post0)\n",
      "Requirement already satisfied: sentence-transformers in /opt/anaconda3/lib/python3.12/site-packages (4.1.0)\n",
      "Requirement already satisfied: transformers in /opt/anaconda3/lib/python3.12/site-packages (4.51.3)\n",
      "Requirement already satisfied: faiss-cpu in /opt/anaconda3/lib/python3.12/site-packages (1.10.0)\n",
      "Requirement already satisfied: gradio in /opt/anaconda3/lib/python3.12/site-packages (3.50.2)\n",
      "Requirement already satisfied: boilerpy3 in /opt/anaconda3/lib/python3.12/site-packages (from farm-haystack) (1.0.7)\n",
      "Requirement already satisfied: events in /opt/anaconda3/lib/python3.12/site-packages (from farm-haystack) (0.5)\n",
      "Requirement already satisfied: httpx in /opt/anaconda3/lib/python3.12/site-packages (from farm-haystack) (0.27.0)\n",
      "Requirement already satisfied: jsonschema in /opt/anaconda3/lib/python3.12/site-packages (from farm-haystack) (4.23.0)\n",
      "Requirement already satisfied: lazy-imports==0.3.1 in /opt/anaconda3/lib/python3.12/site-packages (from farm-haystack) (0.3.1)\n",
      "Requirement already satisfied: more-itertools in /opt/anaconda3/lib/python3.12/site-packages (from farm-haystack) (10.3.0)\n",
      "Requirement already satisfied: networkx in /opt/anaconda3/lib/python3.12/site-packages (from farm-haystack) (3.3)\n",
      "Requirement already satisfied: pandas in /opt/anaconda3/lib/python3.12/site-packages (from farm-haystack) (2.2.2)\n",
      "Requirement already satisfied: pillow in /opt/anaconda3/lib/python3.12/site-packages (from farm-haystack) (10.4.0)\n",
      "Requirement already satisfied: platformdirs in /opt/anaconda3/lib/python3.12/site-packages (from farm-haystack) (3.10.0)\n",
      "Requirement already satisfied: posthog in /opt/anaconda3/lib/python3.12/site-packages (from farm-haystack) (3.25.0)\n",
      "Requirement already satisfied: prompthub-py==4.0.0 in /opt/anaconda3/lib/python3.12/site-packages (from farm-haystack) (4.0.0)\n",
      "Requirement already satisfied: pydantic<2 in /opt/anaconda3/lib/python3.12/site-packages (from farm-haystack) (1.10.21)\n",
      "Requirement already satisfied: quantulum3 in /opt/anaconda3/lib/python3.12/site-packages (from farm-haystack) (0.9.2)\n",
      "Requirement already satisfied: rank-bm25 in /opt/anaconda3/lib/python3.12/site-packages (from farm-haystack) (0.2.2)\n",
      "Requirement already satisfied: requests in /opt/anaconda3/lib/python3.12/site-packages (from farm-haystack) (2.32.3)\n",
      "Requirement already satisfied: requests-cache<1.0.0 in /opt/anaconda3/lib/python3.12/site-packages (from farm-haystack) (0.9.8)\n",
      "Requirement already satisfied: scikit-learn>=1.3.0 in /opt/anaconda3/lib/python3.12/site-packages (from farm-haystack) (1.5.1)\n",
      "Requirement already satisfied: sseclient-py in /opt/anaconda3/lib/python3.12/site-packages (from farm-haystack) (1.8.0)\n",
      "Requirement already satisfied: tenacity in /opt/anaconda3/lib/python3.12/site-packages (from farm-haystack) (8.2.3)\n",
      "Requirement already satisfied: tiktoken>=0.5.1 in /opt/anaconda3/lib/python3.12/site-packages (from farm-haystack) (0.9.0)\n",
      "Requirement already satisfied: tqdm in /opt/anaconda3/lib/python3.12/site-packages (from farm-haystack) (4.66.5)\n",
      "Requirement already satisfied: pyyaml<7.0,>=6.0 in /opt/anaconda3/lib/python3.12/site-packages (from prompthub-py==4.0.0->farm-haystack) (6.0.1)\n",
      "Requirement already satisfied: torch>=1.11.0 in /opt/anaconda3/lib/python3.12/site-packages (from sentence-transformers) (2.2.2)\n",
      "Requirement already satisfied: scipy in /opt/anaconda3/lib/python3.12/site-packages (from sentence-transformers) (1.13.1)\n",
      "Requirement already satisfied: huggingface-hub>=0.20.0 in /opt/anaconda3/lib/python3.12/site-packages (from sentence-transformers) (0.30.2)\n",
      "Requirement already satisfied: typing_extensions>=4.5.0 in /opt/anaconda3/lib/python3.12/site-packages (from sentence-transformers) (4.11.0)\n",
      "Requirement already satisfied: filelock in /opt/anaconda3/lib/python3.12/site-packages (from transformers) (3.13.1)\n",
      "Requirement already satisfied: numpy>=1.17 in /opt/anaconda3/lib/python3.12/site-packages (from transformers) (1.26.4)\n",
      "Requirement already satisfied: packaging>=20.0 in /opt/anaconda3/lib/python3.12/site-packages (from transformers) (24.1)\n",
      "Requirement already satisfied: regex!=2019.12.17 in /opt/anaconda3/lib/python3.12/site-packages (from transformers) (2024.9.11)\n",
      "Requirement already satisfied: tokenizers<0.22,>=0.21 in /opt/anaconda3/lib/python3.12/site-packages (from transformers) (0.21.1)\n",
      "Requirement already satisfied: safetensors>=0.4.3 in /opt/anaconda3/lib/python3.12/site-packages (from transformers) (0.5.3)\n",
      "Requirement already satisfied: aiofiles<24.0,>=22.0 in /opt/anaconda3/lib/python3.12/site-packages (from gradio) (23.2.1)\n",
      "Requirement already satisfied: altair<6.0,>=4.2.0 in /opt/anaconda3/lib/python3.12/site-packages (from gradio) (5.0.1)\n",
      "Requirement already satisfied: fastapi in /opt/anaconda3/lib/python3.12/site-packages (from gradio) (0.115.9)\n",
      "Requirement already satisfied: ffmpy in /opt/anaconda3/lib/python3.12/site-packages (from gradio) (0.5.0)\n",
      "Requirement already satisfied: gradio-client==0.6.1 in /opt/anaconda3/lib/python3.12/site-packages (from gradio) (0.6.1)\n",
      "Requirement already satisfied: importlib-resources<7.0,>=1.3 in /opt/anaconda3/lib/python3.12/site-packages (from gradio) (6.5.2)\n",
      "Requirement already satisfied: jinja2<4.0 in /opt/anaconda3/lib/python3.12/site-packages (from gradio) (3.1.4)\n",
      "Requirement already satisfied: markupsafe~=2.0 in /opt/anaconda3/lib/python3.12/site-packages (from gradio) (2.1.3)\n",
      "Requirement already satisfied: matplotlib~=3.0 in /opt/anaconda3/lib/python3.12/site-packages (from gradio) (3.9.2)\n",
      "Requirement already satisfied: orjson~=3.0 in /opt/anaconda3/lib/python3.12/site-packages (from gradio) (3.10.16)\n",
      "Requirement already satisfied: pydub in /opt/anaconda3/lib/python3.12/site-packages (from gradio) (0.25.1)\n",
      "Requirement already satisfied: python-multipart in /opt/anaconda3/lib/python3.12/site-packages (from gradio) (0.0.20)\n",
      "Requirement already satisfied: semantic-version~=2.0 in /opt/anaconda3/lib/python3.12/site-packages (from gradio) (2.10.0)\n",
      "Requirement already satisfied: uvicorn>=0.14.0 in /opt/anaconda3/lib/python3.12/site-packages (from gradio) (0.34.1)\n",
      "Requirement already satisfied: websockets<12.0,>=10.0 in /opt/anaconda3/lib/python3.12/site-packages (from gradio) (11.0.3)\n",
      "Requirement already satisfied: fsspec in /opt/anaconda3/lib/python3.12/site-packages (from gradio-client==0.6.1->gradio) (2024.6.1)\n",
      "Requirement already satisfied: toolz in /opt/anaconda3/lib/python3.12/site-packages (from altair<6.0,>=4.2.0->gradio) (0.12.0)\n",
      "Requirement already satisfied: attrs>=22.2.0 in /opt/anaconda3/lib/python3.12/site-packages (from jsonschema->farm-haystack) (23.1.0)\n",
      "Requirement already satisfied: jsonschema-specifications>=2023.03.6 in /opt/anaconda3/lib/python3.12/site-packages (from jsonschema->farm-haystack) (2023.7.1)\n",
      "Requirement already satisfied: referencing>=0.28.4 in /opt/anaconda3/lib/python3.12/site-packages (from jsonschema->farm-haystack) (0.30.2)\n",
      "Requirement already satisfied: rpds-py>=0.7.1 in /opt/anaconda3/lib/python3.12/site-packages (from jsonschema->farm-haystack) (0.10.6)\n",
      "Requirement already satisfied: contourpy>=1.0.1 in /opt/anaconda3/lib/python3.12/site-packages (from matplotlib~=3.0->gradio) (1.2.0)\n",
      "Requirement already satisfied: cycler>=0.10 in /opt/anaconda3/lib/python3.12/site-packages (from matplotlib~=3.0->gradio) (0.11.0)\n",
      "Requirement already satisfied: fonttools>=4.22.0 in /opt/anaconda3/lib/python3.12/site-packages (from matplotlib~=3.0->gradio) (4.51.0)\n",
      "Requirement already satisfied: kiwisolver>=1.3.1 in /opt/anaconda3/lib/python3.12/site-packages (from matplotlib~=3.0->gradio) (1.4.4)\n",
      "Requirement already satisfied: pyparsing>=2.3.1 in /opt/anaconda3/lib/python3.12/site-packages (from matplotlib~=3.0->gradio) (3.1.2)\n",
      "Requirement already satisfied: python-dateutil>=2.7 in /opt/anaconda3/lib/python3.12/site-packages (from matplotlib~=3.0->gradio) (2.9.0.post0)\n",
      "Requirement already satisfied: pytz>=2020.1 in /opt/anaconda3/lib/python3.12/site-packages (from pandas->farm-haystack) (2024.1)\n",
      "Requirement already satisfied: tzdata>=2022.7 in /opt/anaconda3/lib/python3.12/site-packages (from pandas->farm-haystack) (2023.3)\n",
      "Requirement already satisfied: charset-normalizer<4,>=2 in /opt/anaconda3/lib/python3.12/site-packages (from requests->farm-haystack) (3.3.2)\n",
      "Requirement already satisfied: idna<4,>=2.5 in /opt/anaconda3/lib/python3.12/site-packages (from requests->farm-haystack) (3.7)\n",
      "Requirement already satisfied: urllib3<3,>=1.21.1 in /opt/anaconda3/lib/python3.12/site-packages (from requests->farm-haystack) (2.2.3)\n",
      "Requirement already satisfied: certifi>=2017.4.17 in /opt/anaconda3/lib/python3.12/site-packages (from requests->farm-haystack) (2025.1.31)\n",
      "Requirement already satisfied: appdirs>=1.4.4 in /opt/anaconda3/lib/python3.12/site-packages (from requests-cache<1.0.0->farm-haystack) (1.4.4)\n",
      "Requirement already satisfied: cattrs>=22.2 in /opt/anaconda3/lib/python3.12/site-packages (from requests-cache<1.0.0->farm-haystack) (24.1.3)\n",
      "Requirement already satisfied: url-normalize>=1.4 in /opt/anaconda3/lib/python3.12/site-packages (from requests-cache<1.0.0->farm-haystack) (2.2.0)\n",
      "Requirement already satisfied: joblib>=1.2.0 in /opt/anaconda3/lib/python3.12/site-packages (from scikit-learn>=1.3.0->farm-haystack) (1.4.2)\n",
      "Requirement already satisfied: threadpoolctl>=3.1.0 in /opt/anaconda3/lib/python3.12/site-packages (from scikit-learn>=1.3.0->farm-haystack) (3.5.0)\n",
      "Requirement already satisfied: sympy in /opt/anaconda3/lib/python3.12/site-packages (from torch>=1.11.0->sentence-transformers) (1.13.2)\n",
      "Requirement already satisfied: click>=7.0 in /opt/anaconda3/lib/python3.12/site-packages (from uvicorn>=0.14.0->gradio) (8.1.7)\n",
      "Requirement already satisfied: h11>=0.8 in /opt/anaconda3/lib/python3.12/site-packages (from uvicorn>=0.14.0->gradio) (0.14.0)\n",
      "Requirement already satisfied: starlette<0.46.0,>=0.40.0 in /opt/anaconda3/lib/python3.12/site-packages (from fastapi->gradio) (0.45.3)\n",
      "Requirement already satisfied: anyio in /opt/anaconda3/lib/python3.12/site-packages (from httpx->farm-haystack) (4.2.0)\n",
      "Requirement already satisfied: httpcore==1.* in /opt/anaconda3/lib/python3.12/site-packages (from httpx->farm-haystack) (1.0.2)\n",
      "Requirement already satisfied: sniffio in /opt/anaconda3/lib/python3.12/site-packages (from httpx->farm-haystack) (1.3.0)\n",
      "Requirement already satisfied: six>=1.5 in /opt/anaconda3/lib/python3.12/site-packages (from posthog->farm-haystack) (1.16.0)\n",
      "Requirement already satisfied: monotonic>=1.5 in /opt/anaconda3/lib/python3.12/site-packages (from posthog->farm-haystack) (1.6)\n",
      "Requirement already satisfied: backoff>=1.10.0 in /opt/anaconda3/lib/python3.12/site-packages (from posthog->farm-haystack) (2.2.1)\n",
      "Requirement already satisfied: distro>=1.5.0 in /opt/anaconda3/lib/python3.12/site-packages (from posthog->farm-haystack) (1.9.0)\n",
      "Requirement already satisfied: inflect in /opt/anaconda3/lib/python3.12/site-packages (from quantulum3->farm-haystack) (7.5.0)\n",
      "Requirement already satisfied: num2words in /opt/anaconda3/lib/python3.12/site-packages (from quantulum3->farm-haystack) (0.5.14)\n",
      "Requirement already satisfied: typeguard>=4.0.1 in /opt/anaconda3/lib/python3.12/site-packages (from inflect->quantulum3->farm-haystack) (4.4.2)\n",
      "Requirement already satisfied: docopt>=0.6.2 in /opt/anaconda3/lib/python3.12/site-packages (from num2words->quantulum3->farm-haystack) (0.6.2)\n",
      "Requirement already satisfied: mpmath<1.4,>=1.1.0 in /opt/anaconda3/lib/python3.12/site-packages (from sympy->torch>=1.11.0->sentence-transformers) (1.3.0)\n",
      "Note: you may need to restart the kernel to use updated packages.\n"
     ]
    }
   ],
   "source": [
    "pip install farm-haystack sentence-transformers transformers faiss-cpu gradio\n"
   ]
  },
  {
   "cell_type": "code",
   "execution_count": 2,
   "id": "fc2fa283-eb94-4c56-b48c-aa967162a937",
   "metadata": {},
   "outputs": [
    {
     "name": "stdout",
     "output_type": "stream",
     "text": [
      "Requirement already satisfied: SQLAlchemy==1.4.49 in /opt/anaconda3/lib/python3.12/site-packages (1.4.49)\n",
      "Requirement already satisfied: greenlet!=0.4.17 in /opt/anaconda3/lib/python3.12/site-packages (from SQLAlchemy==1.4.49) (3.0.1)\n",
      "Note: you may need to restart the kernel to use updated packages.\n"
     ]
    }
   ],
   "source": [
    "pip install SQLAlchemy==1.4.49\n"
   ]
  },
  {
   "cell_type": "code",
   "execution_count": null,
   "id": "25e41ba2-67c4-4484-a956-701bdcf00fbc",
   "metadata": {},
   "outputs": [
    {
     "name": "stderr",
     "output_type": "stream",
     "text": [
      "Writing Documents: 10000it [00:00, 155748.38it/s]                               \n"
     ]
    },
    {
     "data": {
      "application/vnd.jupyter.widget-view+json": {
       "model_id": "4e9133de80e4401c892b79d5a4b78b44",
       "version_major": 2,
       "version_minor": 0
      },
      "text/plain": [
       "Batches:   0%|          | 0/1 [00:00<?, ?it/s]"
      ]
     },
     "metadata": {},
     "output_type": "display_data"
    },
    {
     "name": "stderr",
     "output_type": "stream",
     "text": [
      "Updating Embedding:   0%|                              | 0/8 [00:00<?, ? docs/s]"
     ]
    },
    {
     "data": {
      "application/vnd.jupyter.widget-view+json": {
       "model_id": "db982dfb6bf04bad9e105709d029e6a2",
       "version_major": 2,
       "version_minor": 0
      },
      "text/plain": [
       "Batches:   0%|          | 0/1 [00:00<?, ?it/s]"
      ]
     },
     "metadata": {},
     "output_type": "display_data"
    },
    {
     "name": "stderr",
     "output_type": "stream",
     "text": [
      "Documents Processed: 10000 docs [00:00, 111364.93 docs/s]                       \n"
     ]
    },
    {
     "name": "stdout",
     "output_type": "stream",
     "text": [
      "Nutrient Information Chatbot\n",
      "Type 'exit' to quit the chatbot\n",
      "\n"
     ]
    },
    {
     "name": "stdin",
     "output_type": "stream",
     "text": [
      "Please enter your question about nutrients:  what is the percentage of calcium\n"
     ]
    },
    {
     "data": {
      "application/vnd.jupyter.widget-view+json": {
       "model_id": "850d0b29653f43a6a963beca38e8bf8f",
       "version_major": 2,
       "version_minor": 0
      },
      "text/plain": [
       "Batches:   0%|          | 0/1 [00:00<?, ?it/s]"
      ]
     },
     "metadata": {},
     "output_type": "display_data"
    },
    {
     "name": "stderr",
     "output_type": "stream",
     "text": [
      "Inferencing Samples: 100%|██████████████████| 1/1 [00:01<00:00,  1.94s/ Batches]\n"
     ]
    },
    {
     "name": "stdout",
     "output_type": "stream",
     "text": [
      "\n",
      "Here's what I found:\n",
      "1. 3.0 (confidence: 0.59)\n",
      "   Source: Nutrient: Ca\n",
      "Percentage: 3.0\n",
      "Category: N/A\n",
      "\n",
      "2. 2.5 (confidence: 0.02)\n",
      "   Source: Nutrient: P\n",
      "Percentage: 2.5\n",
      "Category: N/A\n",
      "\n",
      "3. 18.0 (confidence: 0.01)\n",
      "   Source: Nutrient: CF\n",
      "Percentage: 18.0\n",
      "Category: N/A\n",
      "\n",
      "---\n",
      "\n"
     ]
    },
    {
     "name": "stdin",
     "output_type": "stream",
     "text": [
      "Please enter your question about nutrients:  p\n"
     ]
    },
    {
     "data": {
      "application/vnd.jupyter.widget-view+json": {
       "model_id": "c138e06d97ad4d9a838599dec14f1dbf",
       "version_major": 2,
       "version_minor": 0
      },
      "text/plain": [
       "Batches:   0%|          | 0/1 [00:00<?, ?it/s]"
      ]
     },
     "metadata": {},
     "output_type": "display_data"
    },
    {
     "name": "stderr",
     "output_type": "stream",
     "text": [
      "Inferencing Samples: 100%|██████████████████| 1/1 [00:01<00:00,  1.73s/ Batches]\n"
     ]
    },
    {
     "name": "stdout",
     "output_type": "stream",
     "text": [
      "\n",
      "Here's what I found:\n",
      "1. 2.5 (confidence: 0.01)\n",
      "   Source: Nutrient: P\n",
      "Percentage: 2.5\n",
      "Category: N/A\n",
      "\n",
      "2. 6.0 (confidence: 0.00)\n",
      "   Source: Nutrient: Fat\n",
      "Percentage: 6.0\n",
      "Category: N/A\n",
      "\n",
      "3. 32.0 (confidence: 0.00)\n",
      "   Source: Nutrient: NFE\n",
      "Percentage: 32.0\n",
      "Category: N/A\n",
      "\n",
      "---\n",
      "\n"
     ]
    }
   ],
   "source": [
    "from haystack.document_stores import FAISSDocumentStore\n",
    "from haystack.nodes import EmbeddingRetriever, FARMReader\n",
    "from haystack.pipelines import ExtractiveQAPipeline\n",
    "from haystack.schema import Document\n",
    "import pandas as pd\n",
    "import os\n",
    "import warnings\n",
    "\n",
    "# Suppress warnings for cleaner output\n",
    "warnings.filterwarnings('ignore')\n",
    "\n",
    "# Step 1: Load the dataset\n",
    "try:\n",
    "    df = pd.read_csv('nutrients .csv')  # Make sure the file is in your working directory\n",
    "except FileNotFoundError:\n",
    "    print(\"Error: Could not find 'nutrients.csv'. Please ensure the file exists in your working directory.\")\n",
    "    exit()\n",
    "\n",
    "# Step 2: Create Documents\n",
    "docs = []\n",
    "for idx, row in df.iterrows():\n",
    "    # Create a more informative document content\n",
    "    content = f\"Nutrient: {row['Nutrient']}\\nPercentage: {row['%']}\\nCategory: {row.get('Category', 'N/A')}\"\n",
    "    metadata = {\"nutrient\": row['Nutrient'], \"percentage\": row['%']}\n",
    "    docs.append(Document(content=content, meta=metadata))\n",
    "\n",
    "# Step 3: Initialize the FAISS Document Store with proper configuration\n",
    "# First clean up any existing files\n",
    "faiss_files = ['faiss_document_store.db', 'faiss_index.faiss', 'faiss_index.json']\n",
    "for file in faiss_files:\n",
    "    if os.path.exists(file):\n",
    "        os.remove(file)\n",
    "\n",
    "document_store = FAISSDocumentStore(\n",
    "    sql_url=\"sqlite:///faiss_document_store.db\",\n",
    "    faiss_index_factory_str=\"Flat\",\n",
    "    embedding_dim=384,  # This matches the all-MiniLM-L6-v2 model\n",
    ")\n",
    "\n",
    "# Step 4: Store documents\n",
    "document_store.write_documents(docs)\n",
    "\n",
    "# Step 5: Initialize Retriever with a free embedding model\n",
    "retriever = EmbeddingRetriever(\n",
    "    document_store=document_store,\n",
    "    embedding_model=\"sentence-transformers/all-MiniLM-L6-v2\",\n",
    "    model_format=\"sentence_transformers\",\n",
    "    use_gpu=False\n",
    ")\n",
    "\n",
    "# Step 6: Update embeddings in document store\n",
    "document_store.update_embeddings(retriever)\n",
    "\n",
    "# Step 7: Initialize Reader (QA model)\n",
    "reader = FARMReader(\n",
    "    model_name_or_path=\"deepset/roberta-base-squad2\",\n",
    "    use_gpu=False\n",
    ")\n",
    "\n",
    "# Step 8: Create pipeline\n",
    "pipeline = ExtractiveQAPipeline(reader=reader, retriever=retriever)\n",
    "\n",
    "# Chatbot interaction loop\n",
    "print(\"Nutrient Information Chatbot\")\n",
    "print(\"Type 'exit' to quit the chatbot\\n\")\n",
    "\n",
    "while True:\n",
    "    query = input(\"Please enter your question about nutrients: \")\n",
    "    \n",
    "    if query.lower() == 'exit':\n",
    "        break\n",
    "    \n",
    "    # Get prediction\n",
    "    prediction = pipeline.run(\n",
    "        query=query,\n",
    "        params={\n",
    "            \"Retriever\": {\"top_k\": 5},\n",
    "            \"Reader\": {\"top_k\": 3}\n",
    "        }\n",
    "    )\n",
    "    \n",
    "    # Display answers\n",
    "    if len(prediction['answers']) > 0:\n",
    "        print(\"\\nHere's what I found:\")\n",
    "        for idx, answer in enumerate(prediction['answers'], 1):\n",
    "            if answer.answer:\n",
    "                print(f\"{idx}. {answer.answer} (confidence: {answer.score:.2f})\")\n",
    "                print(f\"   Source: {answer.context}\\n\")\n",
    "    else:\n",
    "        print(\"I couldn't find any relevant information about that nutrient.\")\n",
    "    \n",
    "    print(\"---\\n\")\n",
    "\n",
    "# Clean up (optional - comment out if you want to persist the index)\n",
    "document_store.delete_index()\n",
    "for file in faiss_files:\n",
    "    if os.path.exists(file):\n",
    "        os.remove(file)"
   ]
  },
  {
   "cell_type": "code",
   "execution_count": null,
   "id": "05da227d-f233-4959-9cec-1632c4155355",
   "metadata": {},
   "outputs": [],
   "source": [
    "from haystack.document_stores import FAISSDocumentStore\n",
    "from haystack.nodes import EmbeddingRetriever, FARMReader\n",
    "from haystack.pipelines import ExtractiveQAPipeline\n",
    "from haystack.schema import Document\n",
    "import pandas as pd\n",
    "import os\n",
    "import warnings\n",
    "from tqdm import tqdm\n",
    "\n",
    "# Suppress warnings and disable progress bars in notebook\n",
    "warnings.filterwarnings('ignore')\n",
    "os.environ[\"TOKENIZERS_PARALLELISM\"] = \"false\"\n",
    "\n",
    "# Step 1: Load the dataset\n",
    "try:\n",
    "    df = pd.read_csv('nutrients .csv')\n",
    "    print(f\"Loaded dataset with {len(df)} records\")\n",
    "except FileNotFoundError:\n",
    "    print(\"Error: Could not find 'nutrients.csv'. Please ensure the file exists.\")\n",
    "    exit()\n",
    "\n",
    "# Step 2: Create Documents\n",
    "print(\"\\nCreating documents...\")\n",
    "docs = []\n",
    "for idx, row in tqdm(df.iterrows(), total=len(df), desc=\"Processing\"):\n",
    "    content = f\"Nutrient: {row['Nutrient']}\\nPercentage: {row['%']}\"\n",
    "    metadata = {\"nutrient\": row['Nutrient'], \"percentage\": row['%']}\n",
    "    docs.append(Document(content=content, meta=metadata))\n",
    "\n",
    "# Step 3: Initialize FAISS Document Store\n",
    "print(\"\\nInitializing document store...\")\n",
    "faiss_files = ['faiss_document_store.db', 'faiss_index.faiss', 'faiss_index.json']\n",
    "for file in faiss_files:\n",
    "    if os.path.exists(file):\n",
    "        os.remove(file)\n",
    "\n",
    "document_store = FAISSDocumentStore(\n",
    "    sql_url=\"sqlite:///faiss_document_store.db\",\n",
    "    faiss_index_factory_str=\"Flat\",\n",
    "    embedding_dim=384,\n",
    "    progress_bar=False  # Disable internal progress bars\n",
    ")\n",
    "\n",
    "# Step 4: Store documents\n",
    "print(\"\\nWriting documents to store...\")\n",
    "document_store.write_documents(docs, batch_size=100)\n",
    "\n",
    "# Step 5: Initialize Retriever\n",
    "print(\"\\nInitializing retriever...\")\n",
    "retriever = EmbeddingRetriever(\n",
    "    document_store=document_store,\n",
    "    embedding_model=\"sentence-transformers/all-MiniLM-L6-v2\",\n",
    "    model_format=\"sentence_transformers\",\n",
    "    use_gpu=False,\n",
    "    progress_bar=False  # Disable progress bars\n",
    ")\n",
    "\n",
    "# Step 6: Update embeddings\n",
    "print(\"\\nGenerating embeddings...\")\n",
    "document_store.update_embeddings(\n",
    "    retriever,\n",
    "    batch_size=32,\n",
    "    update_existing_embeddings=True\n",
    ")\n",
    "\n",
    "# Step 7: Initialize Reader\n",
    "print(\"\\nLoading QA model...\")\n",
    "reader = FARMReader(\n",
    "    model_name_or_path=\"deepset/roberta-base-squad2\",\n",
    "    use_gpu=False,\n",
    "    num_processes=1\n",
    ")\n",
    "\n",
    "# Step 8: Create pipeline\n",
    "pipeline = ExtractiveQAPipeline(reader=reader, retriever=retriever)\n",
    "\n",
    "# Chatbot interaction\n",
    "print(\"\\nNutrient Information Chatbot (type 'exit' to quit)\")\n",
    "while True:\n",
    "    query = input(\"\\nYour question: \")\n",
    "    if query.lower() == 'exit':\n",
    "        break\n",
    "    \n",
    "    try:\n",
    "        prediction = pipeline.run(\n",
    "            query=query,\n",
    "            params={\n",
    "                \"Retriever\": {\"top_k\": 3},\n",
    "                \"Reader\": {\"top_k\": 1}\n",
    "            }\n",
    "        )\n",
    "        \n",
    "        if prediction['answers']:\n",
    "            answer = prediction['answers'][0]\n",
    "            print(f\"\\nAnswer: {answer.answer}\")\n",
    "            print(f\"Confidence: {answer.score:.2f}\")\n",
    "            print(f\"Source: {answer.context[:100]}...\")\n",
    "        else:\n",
    "            print(\"No relevant information found.\")\n",
    "    \n",
    "    except Exception as e:\n",
    "        print(f\"Error processing query: {str(e)}\")\n",
    "\n",
    "# Cleanup\n",
    "document_store.delete_index()\n",
    "print(\"\\nSession ended. Resources cleaned up.\")"
   ]
  },
  {
   "cell_type": "code",
   "execution_count": null,
   "id": "6205125d-d9de-453b-8097-77e47f53b0fe",
   "metadata": {},
   "outputs": [],
   "source": []
  }
 ],
 "metadata": {
  "kernelspec": {
   "display_name": "Python [conda env:base] *",
   "language": "python",
   "name": "conda-base-py"
  },
  "language_info": {
   "codemirror_mode": {
    "name": "ipython",
    "version": 3
   },
   "file_extension": ".py",
   "mimetype": "text/x-python",
   "name": "python",
   "nbconvert_exporter": "python",
   "pygments_lexer": "ipython3",
   "version": "3.12.7"
  }
 },
 "nbformat": 4,
 "nbformat_minor": 5
}
